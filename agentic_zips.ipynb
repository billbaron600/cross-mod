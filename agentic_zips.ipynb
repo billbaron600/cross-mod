{
 "cells": [
  {
   "attachments": {},
   "cell_type": "markdown",
   "metadata": {},
   "source": [
    "<H1> Function for User to Agent Pass 2: </H1>"
   ]
  },
  {
   "cell_type": "code",
   "execution_count": 1,
   "metadata": {},
   "outputs": [],
   "source": [
    "import os\n",
    "import zipfile\n",
    "from pathlib import Path\n",
    "\n",
    "def create_subset_zip_pass1(\n",
    "    root_path: str,\n",
    "    indices=None,\n",
    "    output_zip=None,\n",
    "    subset_files: tuple = (\n",
    "        \"camera_angle_0.png\",\n",
    "        \"camera_angle_1.png\",\n",
    "    ),\n",
    "    strict: bool = False,   # if True, raise on any missing folder/file\n",
    "):\n",
    "    \"\"\"\n",
    "    Pack selected files from numbered sub‑folders of `root_path` into a single ZIP.\n",
    "\n",
    "    Parameters\n",
    "    ----------\n",
    "    root_path : str\n",
    "        Directory that contains sub‑folders named '2', '3', '4', ...\n",
    "    indices : list[int]\n",
    "        Which sub‑folder names to include (e.g. [2, 5, 7]).\n",
    "    output_zip : str, optional\n",
    "        Name (or full path) of the resulting ZIP archive.\n",
    "    subset_files : tuple[str], optional\n",
    "        Files to copy from each sub‑folder.\n",
    "    strict : bool, optional\n",
    "        • False (default) → skip missing items with a warning.  \n",
    "        • True  → raise FileNotFoundError if anything is missing.\n",
    "    \"\"\"\n",
    "    root = Path(root_path).expanduser().resolve()\n",
    "\n",
    "    with zipfile.ZipFile(output_zip, \"w\", compression=zipfile.ZIP_DEFLATED) as zf:\n",
    "        for idx in indices:\n",
    "            folder = root / str(idx)\n",
    "            if not folder.is_dir():\n",
    "                msg = f\"Folder not found: {folder}\"\n",
    "                if strict:\n",
    "                    raise FileNotFoundError(msg)\n",
    "                print(\"⚠️\", msg, \"(skipping)\")\n",
    "                continue\n",
    "\n",
    "            for filename in subset_files:\n",
    "                fpath = folder / filename\n",
    "                if not fpath.is_file():\n",
    "                    msg = f\"Missing file: {fpath}\"\n",
    "                    if strict:\n",
    "                        raise FileNotFoundError(msg)\n",
    "                    print(\"⚠️\", msg, \"(skipping)\")\n",
    "                    continue\n",
    "\n",
    "                # Preserve \"<index>/<filename>\" structure inside the ZIP\n",
    "                arcname = Path(str(idx)) / filename\n",
    "                zf.write(fpath, arcname)\n",
    "\n",
    "    print(f\"✅  Created {output_zip}\")\n",
    "\n",
    "def create_subset_zip_pass2(\n",
    "    root_path: str,\n",
    "    indices=None,\n",
    "    output_zip=None,\n",
    "    subset_files: tuple = (\n",
    "        \"points.txt\",\n",
    "        \"camera_angle_0.png\",\n",
    "        \"camera_angle_1.png\",\n",
    "        #\"points_view_0.png\",\n",
    "        #\"points_view_1.png\",\n",
    "    ),\n",
    "    strict: bool = False,   # if True, raise on any missing folder/file\n",
    "):\n",
    "    \"\"\"\n",
    "    Pack selected files from numbered sub‑folders of `root_path` into a single ZIP.\n",
    "\n",
    "    Parameters\n",
    "    ----------\n",
    "    root_path : str\n",
    "        Directory that contains sub‑folders named '2', '3', '4', ...\n",
    "    indices : list[int]\n",
    "        Which sub‑folder names to include (e.g. [2, 5, 7]).\n",
    "    output_zip : str, optional\n",
    "        Name (or full path) of the resulting ZIP archive.\n",
    "    subset_files : tuple[str], optional\n",
    "        Files to copy from each sub‑folder.\n",
    "    strict : bool, optional\n",
    "        • False (default) → skip missing items with a warning.  \n",
    "        • True  → raise FileNotFoundError if anything is missing.\n",
    "    \"\"\"\n",
    "    root = Path(root_path).expanduser().resolve()\n",
    "\n",
    "    with zipfile.ZipFile(output_zip, \"w\", compression=zipfile.ZIP_DEFLATED) as zf:\n",
    "        for idx in indices:\n",
    "            folder = root / str(idx)\n",
    "            if not folder.is_dir():\n",
    "                msg = f\"Folder not found: {folder}\"\n",
    "                if strict:\n",
    "                    raise FileNotFoundError(msg)\n",
    "                print(\"⚠️\", msg, \"(skipping)\")\n",
    "                continue\n",
    "\n",
    "            for filename in subset_files:\n",
    "                fpath = folder / filename\n",
    "                if not fpath.is_file():\n",
    "                    msg = f\"Missing file: {fpath}\"\n",
    "                    if strict:\n",
    "                        raise FileNotFoundError(msg)\n",
    "                    print(\"⚠️\", msg, \"(skipping)\")\n",
    "                    continue\n",
    "\n",
    "                # Preserve \"<index>/<filename>\" structure inside the ZIP\n",
    "                arcname = Path(str(idx)) / filename\n",
    "                zf.write(fpath, arcname)\n",
    "\n",
    "    print(f\"✅  Created {output_zip}\")\n",
    "\n",
    "\n",
    "\n",
    "def create_subset_zip_pass3(\n",
    "    root_path: str,\n",
    "    indices=None,\n",
    "    output_zip=None,\n",
    "    subset_files: tuple = (\n",
    "        \"points.txt\",\n",
    "        \"camera_angle_0.png\",\n",
    "        \"camera_angle_1.png\",\n",
    "        \"trajectory_points.txt\"\n",
    "    ),\n",
    "    strict: bool = False,   # if True, raise on any missing folder/file\n",
    "):\n",
    "    \"\"\"\n",
    "    Pack selected files from numbered sub‑folders of `root_path` into a single ZIP.\n",
    "\n",
    "    Parameters\n",
    "    ----------\n",
    "    root_path : str\n",
    "        Directory that contains sub‑folders named '2', '3', '4', ...\n",
    "    indices : list[int]\n",
    "        Which sub‑folder names to include (e.g. [2, 5, 7]).\n",
    "    output_zip : str, optional\n",
    "        Name (or full path) of the resulting ZIP archive.\n",
    "    subset_files : tuple[str], optional\n",
    "        Files to copy from each sub‑folder.\n",
    "    strict : bool, optional\n",
    "        • False (default) → skip missing items with a warning.  \n",
    "        • True  → raise FileNotFoundError if anything is missing.\n",
    "    \"\"\"\n",
    "    root = Path(root_path).expanduser().resolve()\n",
    "\n",
    "    with zipfile.ZipFile(output_zip, \"w\", compression=zipfile.ZIP_DEFLATED) as zf:\n",
    "        for idx in indices:\n",
    "            folder = root / str(idx)\n",
    "            if not folder.is_dir():\n",
    "                msg = f\"Folder not found: {folder}\"\n",
    "                if strict:\n",
    "                    raise FileNotFoundError(msg)\n",
    "                print(\"⚠️\", msg, \"(skipping)\")\n",
    "                continue\n",
    "\n",
    "            for filename in subset_files:\n",
    "                fpath = folder / filename\n",
    "                if not fpath.is_file():\n",
    "                    msg = f\"Missing file: {fpath}\"\n",
    "                    if strict:\n",
    "                        raise FileNotFoundError(msg)\n",
    "                    print(\"⚠️\", msg, \"(skipping)\")\n",
    "                    continue\n",
    "\n",
    "                # Preserve \"<index>/<filename>\" structure inside the ZIP\n",
    "                arcname = Path(str(idx)) / filename\n",
    "                zf.write(fpath, arcname)\n",
    "\n",
    "    print(f\"✅  Created {output_zip}\")\n",
    "    "
   ]
  },
  {
   "attachments": {},
   "cell_type": "markdown",
   "metadata": {},
   "source": [
    "<H1>Function for Copying Agents Response to Pass 2 to the Proper Directories</H1>"
   ]
  },
  {
   "cell_type": "code",
   "execution_count": 2,
   "metadata": {},
   "outputs": [],
   "source": [
    "import os\n",
    "import re\n",
    "import zipfile\n",
    "import shutil\n",
    "import tempfile\n",
    "from pathlib import Path\n",
    "\n",
    "\n",
    "_CAM_TRAJ_PAT = re.compile(r\"camera_angle_\\d+_traj_\\d+\\.png$\")\n",
    "\n",
    "\n",
    "def _find_seed_root(start_dir: Path) -> Path:\n",
    "    \"\"\"\n",
    "    Return the first directory whose *immediate* children are all\n",
    "    integer‑named folders (your seed dirs). Raises if not found.\n",
    "    \"\"\"\n",
    "    for dirpath, dirnames, _ in os.walk(start_dir):\n",
    "        if dirnames and all(name.isdigit() for name in dirnames):\n",
    "            return Path(dirpath)\n",
    "    raise ValueError(\"❌  Couldn’t locate seed folders with integer names.\")\n",
    "\n",
    "\n",
    "def copy_agent_data(\n",
    "    copy_path,          # directory that holds the ZIP\n",
    "    paste_path,         # destination where seed folders live / will be created\n",
    "    zip_name=\"agent_pass_2_with_traj.zip\",\n",
    "    strict=False        # True → raise if a seed folder has none of the files\n",
    "):\n",
    "    \"\"\"\n",
    "    Unpacks the ZIP in `copy_path`, finds the seed folders (0,1,2,…),\n",
    "    and copies:\n",
    "\n",
    "      • camera_angle_*_traj_*.png\n",
    "      • trajectory_points.txt\n",
    "      • prompts.txt                 ← NEW\n",
    "\n",
    "    into matching seed dirs under `paste_path`.\n",
    "    \"\"\"\n",
    "    src_zip = Path(copy_path, zip_name).expanduser().resolve()\n",
    "    if not src_zip.is_file():\n",
    "        raise FileNotFoundError(f\"ZIP not found: {src_zip}\")\n",
    "\n",
    "    dst_root = Path(paste_path).expanduser().resolve()\n",
    "    dst_root.mkdir(parents=True, exist_ok=True)\n",
    "\n",
    "    with tempfile.TemporaryDirectory() as tmpdir:\n",
    "        # 1) extract everything (structure doesn’t matter)\n",
    "        with zipfile.ZipFile(src_zip, \"r\") as zf:\n",
    "            zf.extractall(tmpdir)\n",
    "\n",
    "        # 2) locate the directory that directly contains the integer seeds\n",
    "        seed_root = _find_seed_root(Path(tmpdir))\n",
    "\n",
    "        # 3) iterate over each seed directory\n",
    "        for seed_dir in filter(lambda p: p.is_dir(), seed_root.iterdir()):\n",
    "            dest_dir = dst_root / seed_dir.name\n",
    "            dest_dir.mkdir(parents=True, exist_ok=True)\n",
    "\n",
    "            found_any = False\n",
    "\n",
    "            # ── copy camera_angle_*_traj_*.png ───────────────────────────\n",
    "            for img in seed_dir.glob(\"camera_angle_*_traj_*.png\"):\n",
    "                if _CAM_TRAJ_PAT.match(img.name):\n",
    "                    shutil.copy2(img, dest_dir / img.name)\n",
    "                    found_any = True\n",
    "\n",
    "            # ── copy trajectory_points.txt ──────────────────────────────\n",
    "            traj_txt = seed_dir / \"trajectory_points.txt\"\n",
    "            if traj_txt.exists():\n",
    "                shutil.copy2(traj_txt, dest_dir / traj_txt.name)\n",
    "                found_any = True\n",
    "\n",
    "            # ── copy prompts.txt (NEW) ───────────────────────────────────\n",
    "            prompts_txt = seed_dir / \"prompts.txt\"\n",
    "            if prompts_txt.exists():\n",
    "                shutil.copy2(prompts_txt, dest_dir / prompts_txt.name)\n",
    "                found_any = True\n",
    "\n",
    "            # ── copy euler_orientations.npy & quaternion_orientations.npy ───────────\n",
    "            for npy_name in (\"euler_orientations.npy\", \"quaternion_orientations.npy\",\"gripper_actions.npy\"):\n",
    "                npy_file = seed_dir / npy_name\n",
    "                if npy_file.exists():\n",
    "                    shutil.copy2(npy_file, dest_dir / npy_file.name)\n",
    "                    found_any = True\n",
    "\n",
    "            if strict and not found_any:\n",
    "                raise FileNotFoundError(\n",
    "                    f\"No matching files in seed folder {seed_dir}\"\n",
    "                )\n",
    "\n",
    "    print(f\"✅  Copied agent data into {dst_root}\")"
   ]
  },
  {
   "attachments": {},
   "cell_type": "markdown",
   "metadata": {},
   "source": [
    "<H1> Agent Pass 1</H1>"
   ]
  },
  {
   "cell_type": "code",
   "execution_count": 14,
   "metadata": {},
   "outputs": [
    {
     "name": "stdout",
     "output_type": "stream",
     "text": [
      "✅  Created run_results/lift_numbered_block/demos/agent_pass_1.zip\n"
     ]
    }
   ],
   "source": [
    "path_dir = \"run_results/lift_numbered_block/demos\"\n",
    "\n",
    "indices = [0,1,2,3,4,5,6,7,8,9,10,11,12,13,14,15,16,17,18,19] #,11,12,13,14,15,16,17,18,19]\n",
    "#indices = [11,12,13,14,15,16,17,18,19,20]\n",
    "create_subset_zip_pass1(\n",
    "        root_path=path_dir,\n",
    "        indices=indices,   # folders you want\n",
    "        output_zip=path_dir + \"/\"+\"agent_pass_1.zip\",\n",
    "    )"
   ]
  },
  {
   "attachments": {},
   "cell_type": "markdown",
   "metadata": {},
   "source": [
    "<H1> Agent Pass 2 </H1>"
   ]
  },
  {
   "cell_type": "code",
   "execution_count": 9,
   "metadata": {},
   "outputs": [
    {
     "name": "stdout",
     "output_type": "stream",
     "text": [
      "⚠️ Missing file: /home/wbaron407/Projects/diag-sketches/diag-sketches-modified/run_results_ablations/insert_in_peg/demos/20/points.txt (skipping)\n",
      "✅  Created run_results_ablations/insert_in_peg/demos/agent_pass_2.zip\n"
     ]
    }
   ],
   "source": [
    "path_dir = \"run_results_ablations/insert_in_peg/demos\"\n",
    "#indices = [3,5,14,15,19]\n",
    "#indices = [1,2,3,4,5,6,7,8,9,10,11,12,13,14,15,16,17,18,19]\n",
    "indices = [20]\n",
    "create_subset_zip_pass2(\n",
    "        root_path=path_dir,\n",
    "        indices=indices,   # folders you want\n",
    "        output_zip=path_dir + \"/\"+\"agent_pass_2.zip\",\n",
    "    )\n"
   ]
  },
  {
   "attachments": {},
   "cell_type": "markdown",
   "metadata": {},
   "source": [
    "<H1> Agent Pass 3</H1>"
   ]
  },
  {
   "cell_type": "code",
   "execution_count": 19,
   "metadata": {},
   "outputs": [
    {
     "name": "stdout",
     "output_type": "stream",
     "text": [
      "✅  Created run_results/play_jenga/demos/agent_pass_3.zip\n"
     ]
    }
   ],
   "source": [
    "path_dir = \"run_results/play_jenga/demos\"\n",
    "indices = [2,4,5,6,7,8,9,10]\n",
    "#indices = [0,1,2,3,4,5,6,7,8,9,10,11,12,13,14,15,16,17,18,19]\n",
    "create_subset_zip_pass3(\n",
    "        root_path=path_dir,\n",
    "        indices=indices,   # folders you want\n",
    "        output_zip=path_dir + \"/\"+\"agent_pass_3.zip\")"
   ]
  },
  {
   "attachments": {},
   "cell_type": "markdown",
   "metadata": {},
   "source": [
    "<H1> Copy relevant files to the iteration working dir </H1>"
   ]
  },
  {
   "cell_type": "code",
   "execution_count": 5,
   "metadata": {},
   "outputs": [
    {
     "ename": "FileNotFoundError",
     "evalue": "ZIP not found: /home/wbaron407/Projects/diag-sketches/diag-sketches-modified/run_results_ablations/rubish_in_bin/demos/agent_data/agent_response_2_seed_20.zip",
     "output_type": "error",
     "traceback": [
      "\u001b[0;31m---------------------------------------------------------------------------\u001b[0m",
      "\u001b[0;31mFileNotFoundError\u001b[0m                         Traceback (most recent call last)",
      "Cell \u001b[0;32mIn[5], line 4\u001b[0m\n\u001b[1;32m      1\u001b[0m copy_path \u001b[39m=\u001b[39m \u001b[39m\"\u001b[39m\u001b[39mrun_results_ablations/rubish_in_bin/demos/agent_data\u001b[39m\u001b[39m\"\u001b[39m\n\u001b[1;32m      2\u001b[0m paste_path \u001b[39m=\u001b[39m \u001b[39m\"\u001b[39m\u001b[39mrun_results_ablations/rubish_in_bin/demos\u001b[39m\u001b[39m\"\u001b[39m\n\u001b[0;32m----> 4\u001b[0m copy_agent_data(copy_path, paste_path,zip_name\u001b[39m=\u001b[39;49m\u001b[39m\"\u001b[39;49m\u001b[39magent_response_2_seed_20.zip\u001b[39;49m\u001b[39m\"\u001b[39;49m)\n",
      "Cell \u001b[0;32mIn[2], line 41\u001b[0m, in \u001b[0;36mcopy_agent_data\u001b[0;34m(copy_path, paste_path, zip_name, strict)\u001b[0m\n\u001b[1;32m     39\u001b[0m src_zip \u001b[39m=\u001b[39m Path(copy_path, zip_name)\u001b[39m.\u001b[39mexpanduser()\u001b[39m.\u001b[39mresolve()\n\u001b[1;32m     40\u001b[0m \u001b[39mif\u001b[39;00m \u001b[39mnot\u001b[39;00m src_zip\u001b[39m.\u001b[39mis_file():\n\u001b[0;32m---> 41\u001b[0m     \u001b[39mraise\u001b[39;00m \u001b[39mFileNotFoundError\u001b[39;00m(\u001b[39mf\u001b[39m\u001b[39m\"\u001b[39m\u001b[39mZIP not found: \u001b[39m\u001b[39m{\u001b[39;00msrc_zip\u001b[39m}\u001b[39;00m\u001b[39m\"\u001b[39m)\n\u001b[1;32m     43\u001b[0m dst_root \u001b[39m=\u001b[39m Path(paste_path)\u001b[39m.\u001b[39mexpanduser()\u001b[39m.\u001b[39mresolve()\n\u001b[1;32m     44\u001b[0m dst_root\u001b[39m.\u001b[39mmkdir(parents\u001b[39m=\u001b[39m\u001b[39mTrue\u001b[39;00m, exist_ok\u001b[39m=\u001b[39m\u001b[39mTrue\u001b[39;00m)\n",
      "\u001b[0;31mFileNotFoundError\u001b[0m: ZIP not found: /home/wbaron407/Projects/diag-sketches/diag-sketches-modified/run_results_ablations/rubish_in_bin/demos/agent_data/agent_response_2_seed_20.zip"
     ]
    }
   ],
   "source": [
    "copy_path = \"run_results_ablations/rubish_in_bin/demos/agent_data\"\n",
    "paste_path = \"run_results_ablations/rubish_in_bin/demos\"\n",
    "\n",
    "copy_agent_data(copy_path, paste_path,zip_name=\"agent_response_2_seed_20.zip\")\n",
    "#copy_agent_data(copy_path, paste_path,zip_name=\"agent_response_2.zip\")\n",
    "\n",
    "#zip -r ../agent_response_1.zip .\n"
   ]
  },
  {
   "attachments": {},
   "cell_type": "markdown",
   "metadata": {},
   "source": [
    "<H1> SCRATCH </H1>"
   ]
  },
  {
   "cell_type": "code",
   "execution_count": 2,
   "metadata": {},
   "outputs": [
    {
     "name": "stdout",
     "output_type": "stream",
     "text": [
      "Change points: [155 513]\n"
     ]
    }
   ],
   "source": [
    "import pickle\n",
    "import numpy as np\n",
    "\n",
    "working_dir = \"run_results/lift_numbered_block/demos/2/\"\n",
    "\n",
    "with open(working_dir+'generated_trajectories_numpy_with_gripper.pkl', \"rb\") as f:\n",
    "    trajs_generated = pickle.load(f)\n",
    "\n",
    "\n",
    "close_index  = 155 #originally 172, then 170\n",
    "open_index = 513\n",
    "\n",
    "trajs_generated[0,:close_index,3] = 0.04\n",
    "trajs_generated[0,close_index:open_index,3] = 0.0\n",
    "trajs_generated[0,open_index:,3] = 0.04\n",
    "vals = np.asarray(trajs_generated[0, :, 3])\n",
    "\n",
    "\n",
    "# Option A – np.where (concise)\n",
    "change_idx = np.where(vals[:-1] != vals[1:])[0] + 1\n",
    "print(\"Change points:\", change_idx)\n",
    "\n",
    "\n",
    "with open(working_dir+'generated_trajectories_numpy_with_gripper.pkl', 'wb') as f:\n",
    "    pickle.dump(trajs_generated, f)"
   ]
  },
  {
   "cell_type": "code",
   "execution_count": 14,
   "metadata": {},
   "outputs": [
    {
     "name": "stdout",
     "output_type": "stream",
     "text": [
      "[True]\n"
     ]
    }
   ],
   "source": [
    "import pickle\n",
    "path = \"run_results_original/lift_numbered_block/demos/0/full_ivk_trajectories.pkl\"\n",
    "\n",
    "with open(path, 'rb') as file:\n",
    "    data = pickle.load(file)\n",
    "\n",
    "print(data[\"successful\"])"
   ]
  }
 ],
 "metadata": {
  "kernelspec": {
   "display_name": "bills_env",
   "language": "python",
   "name": "python3"
  },
  "language_info": {
   "codemirror_mode": {
    "name": "ipython",
    "version": 3
   },
   "file_extension": ".py",
   "mimetype": "text/x-python",
   "name": "python",
   "nbconvert_exporter": "python",
   "pygments_lexer": "ipython3",
   "version": "3.8.20"
  },
  "orig_nbformat": 4,
  "vscode": {
   "interpreter": {
    "hash": "994267ae4b6117adb05c7fed870969c7b20e5dd8c2fead34c62f3ee4037df67d"
   }
  }
 },
 "nbformat": 4,
 "nbformat_minor": 2
}
